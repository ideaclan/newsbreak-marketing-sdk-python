{
 "cells": [
  {
   "cell_type": "code",
   "execution_count": 1,
   "id": "3ac47935",
   "metadata": {},
   "outputs": [
    {
     "name": "stdout",
     "output_type": "stream",
     "text": [
      "Automatic pdb calling has been turned ON\n"
     ]
    }
   ],
   "source": [
    "%pdb on"
   ]
  },
  {
   "cell_type": "code",
   "execution_count": 2,
   "id": "48565a42",
   "metadata": {},
   "outputs": [],
   "source": [
    "import sys\n",
    "if '/Users/sumansaurabh/IdeaClan/newsbreak_marketing/src' not in sys.path:\n",
    "    sys.path.append('/Users/sumansaurabh/IdeaClan/newsbreak_marketing/src')"
   ]
  },
  {
   "cell_type": "code",
   "execution_count": 33,
   "id": "60ad20c5",
   "metadata": {},
   "outputs": [],
   "source": [
    "access_token = '3d8a7a49-bb3e-4201-b03b-29d0a1f3b348'\n",
    "ad_account_id = '1942158153761857538'\n",
    "\n",
    "from newsbreak_marketing import APISession\n",
    "\n",
    "session = APISession(access_token=access_token)"
   ]
  },
  {
   "cell_type": "code",
   "execution_count": 34,
   "id": "c7290e19",
   "metadata": {},
   "outputs": [],
   "source": [
    "from newsbreak_marketing.campaign import Campaign, CampaignObjective\n",
    "\n",
    "camp = Campaign(ad_account_id=ad_account_id)"
   ]
  },
  {
   "cell_type": "code",
   "execution_count": 35,
   "id": "65f4d3d5",
   "metadata": {},
   "outputs": [],
   "source": [
    "camp = await camp.create(name='testpy',objective=CampaignObjective.WEB_CONVERSION,ad_account_id=ad_account_id)"
   ]
  },
  {
   "cell_type": "code",
   "execution_count": 36,
   "id": "00e9babf",
   "metadata": {},
   "outputs": [],
   "source": [
    "camp = await camp.update(campaign_id=camp.id,name='testpy1')"
   ]
  },
  {
   "cell_type": "code",
   "execution_count": 37,
   "id": "e7fb9b25",
   "metadata": {},
   "outputs": [
    {
     "data": {
      "text/plain": [
       "'testpy1'"
      ]
     },
     "execution_count": 37,
     "metadata": {},
     "output_type": "execute_result"
    }
   ],
   "source": [
    "camp.name"
   ]
  },
  {
   "cell_type": "code",
   "execution_count": 38,
   "id": "cfc58443",
   "metadata": {},
   "outputs": [
    {
     "data": {
      "text/plain": [
       "<Status.ON: 'ON'>"
      ]
     },
     "execution_count": 38,
     "metadata": {},
     "output_type": "execute_result"
    }
   ],
   "source": [
    "camp.status"
   ]
  },
  {
   "cell_type": "code",
   "execution_count": 39,
   "id": "e361674c",
   "metadata": {},
   "outputs": [],
   "source": [
    "from newsbreak_marketing import Status\n",
    "camp = await camp.update_status(campaign_id=camp.id,status=Status.OFF)"
   ]
  },
  {
   "cell_type": "code",
   "execution_count": 40,
   "id": "8be3d216",
   "metadata": {},
   "outputs": [
    {
     "data": {
      "text/plain": [
       "<Status.OFF: 'OFF'>"
      ]
     },
     "execution_count": 40,
     "metadata": {},
     "output_type": "execute_result"
    }
   ],
   "source": [
    "camp.status"
   ]
  },
  {
   "cell_type": "code",
   "execution_count": 41,
   "id": "603ad777",
   "metadata": {},
   "outputs": [],
   "source": [
    "from newsbreak_marketing.ad_set import AdSet\n",
    "\n",
    "adset = AdSet(ad_account_id=ad_account_id, campaign_id=camp.id)"
   ]
  },
  {
   "cell_type": "code",
   "execution_count": 42,
   "id": "9d8f0869",
   "metadata": {},
   "outputs": [],
   "source": [
    "from newsbreak_marketing.ad_set import Targeting, AdSetBudgetType, AdSetBidType, AdSetDeliveryRate\n",
    "\n",
    "adset = await adset.create(name='py1',budget_type=AdSetBudgetType.DAILY, budget=10000, start_time=1752130614, end_time=1752199999, bid_type=AdSetBidType.CPM, bit_rate=1000, delivery_rate=AdSetDeliveryRate.EVENLY, targeting=Targeting(),tracking_id=\"1943201355486625793\")"
   ]
  },
  {
   "cell_type": "code",
   "execution_count": 43,
   "id": "f198b6d0",
   "metadata": {},
   "outputs": [
    {
     "data": {
      "text/plain": [
       "'py1'"
      ]
     },
     "execution_count": 43,
     "metadata": {},
     "output_type": "execute_result"
    }
   ],
   "source": [
    "adset.name"
   ]
  },
  {
   "cell_type": "code",
   "execution_count": 44,
   "id": "b591c2b3",
   "metadata": {},
   "outputs": [],
   "source": [
    "from newsbreak_marketing.ad import asset_upload\n",
    "with open('/Users/sumansaurabh/Downloads/park.jpeg', 'rb') as f:\n",
    "    url = await asset_upload(session=session, ad_account_id=ad_account_id, media=f)"
   ]
  },
  {
   "cell_type": "code",
   "execution_count": 45,
   "id": "23d2d743",
   "metadata": {},
   "outputs": [
    {
     "name": "stdout",
     "output_type": "stream",
     "text": [
      "https://static.particlenews.com/nova/assets/1942158153761857538/1a0671f87c1c5bfb920f2f22a267298a7b70013f.jpeg\n"
     ]
    }
   ],
   "source": [
    "print(url)"
   ]
  },
  {
   "cell_type": "code",
   "execution_count": 51,
   "id": "425d6f51",
   "metadata": {},
   "outputs": [
    {
     "data": {
      "text/plain": [
       "'1943202884828811266'"
      ]
     },
     "execution_count": 51,
     "metadata": {},
     "output_type": "execute_result"
    }
   ],
   "source": [
    "adset.id"
   ]
  },
  {
   "cell_type": "code",
   "execution_count": 3,
   "id": "ab7ca29a",
   "metadata": {},
   "outputs": [],
   "source": [
    "access_token = '3d8a7a49-bb3e-4201-b03b-29d0a1f3b348'\n",
    "ad_account_id = '1942158153761857538'\n",
    "\n",
    "from newsbreak_marketing import APISession\n",
    "\n",
    "session = APISession(access_token=access_token)"
   ]
  },
  {
   "cell_type": "code",
   "execution_count": 4,
   "id": "d6486ed2",
   "metadata": {},
   "outputs": [],
   "source": [
    "from newsbreak_marketing.ad import Ad\n",
    "\n",
    "ad = Ad(ad_account_id=ad_account_id, ad_set_id='1943202884828811266')"
   ]
  },
  {
   "cell_type": "code",
   "execution_count": 5,
   "id": "e5a23e1b",
   "metadata": {},
   "outputs": [],
   "source": [
    "from newsbreak_marketing.ad import CreativeType\n",
    "ad = await ad.create(name='ady',click_through_url='https://aqua-emlynn-33.tiiny.site/',impression_tracking_url=['https://aqua-emlynn-33.tiiny.site/'],type=CreativeType.IMAGE,headline='test',asset_ulr='https://static.particlenews.com/nova/assets/1942158153761857538/1a0671f87c1c5bfb920f2f22a267298a7b70013f.jpeg',description='testdddd',call_to_action='Suscribe',brand_name='test to',logo_url='https://static.particlenews.com/nova/assets/1942158153761857538/1a0671f87c1c5bfb920f2f22a267298a7b70013f.jpeg',click_tracking_url=[\n",
    "    \"https://business.newsbreak.com/tracking/redirect?nb_event_type=AD_EVENT_IMPRESSION&nb_source=gam_3p_tracking&nb_device_id=%%ADVERTISING_IDENTIFIER_PLAIN%%&nb_flight_id=%eaid!&nb_creative_id=%ecid!&uid_01=%%PATTERN:uid_01%%&uid_02=%%PATTERN:uid_02%%&uid_03=%%PATTERN:uid_03%%&uid_04=%%PATTERN:uid_04%%&uid_05=%%PATTERN:uid_05%%&uid_06=%%PATTERN:uid_06%%&uid_07=%%PATTERN:uid_07%%&uid_08=%%PATTERN:uid_08%%\"\n",
    "  ])"
   ]
  },
  {
   "cell_type": "code",
   "execution_count": 6,
   "id": "f5049760",
   "metadata": {},
   "outputs": [
    {
     "data": {
      "text/plain": [
       "{'id': '1943217353978040322',\n",
       " 'name': 'ady',\n",
       " 'ad_account_id': '1942158153761857538',\n",
       " 'campaign_id': '1943202867422449665',\n",
       " 'ad_set_id': '1943202884828811266',\n",
       " 'click_tracking_url': ['https://business.newsbreak.com/tracking/redirect?nb_event_type=AD_EVENT_IMPRESSION&nb_source=gam_3p_tracking&nb_device_id=%%ADVERTISING_IDENTIFIER_PLAIN%%&nb_flight_id=%eaid!&nb_creative_id=%ecid!&uid_01=%%PATTERN:uid_01%%&uid_02=%%PATTERN:uid_02%%&uid_03=%%PATTERN:uid_03%%&uid_04=%%PATTERN:uid_04%%&uid_05=%%PATTERN:uid_05%%&uid_06=%%PATTERN:uid_06%%&uid_07=%%PATTERN:uid_07%%&uid_08=%%PATTERN:uid_08%%'],\n",
       " 'impression_tracking_url': ['https://aqua-emlynn-33.tiiny.site/'],\n",
       " 'status': <Status.ON: 'ON'>,\n",
       " 'audit_status': 'PENDING',\n",
       " 'status_txt': None,\n",
       " 'creative': Creative(type=<CreativeType.IMAGE: 'IMAGE'>, content=CreativeContent(headline='test', asset_url='https://static.particlenews.com/nova/assets/1942158153761857538/1a0671f87c1c5bfb920f2f22a267298a7b70013f.jpeg', height=5568, width=3712, cover_url=None, description='testdddd', call_to_action='Suscribe', brand_name='test to', logo_url='https://static.particlenews.com/nova/assets/1942158153761857538/1a0671f87c1c5bfb920f2f22a267298a7b70013f.jpeg', click_through_url='https://aqua-emlynn-33.tiiny.site/')),\n",
       " 'headers': {'Content-Type': 'application/json',\n",
       "  'Access-Token': '3d8a7a49-bb3e-4201-b03b-29d0a1f3b348'}}"
      ]
     },
     "execution_count": 6,
     "metadata": {},
     "output_type": "execute_result"
    }
   ],
   "source": [
    "ad.__dict__"
   ]
  },
  {
   "cell_type": "code",
   "execution_count": null,
   "id": "54ab6f73",
   "metadata": {},
   "outputs": [],
   "source": []
  }
 ],
 "metadata": {
  "kernelspec": {
   "display_name": ".venv",
   "language": "python",
   "name": "python3"
  },
  "language_info": {
   "codemirror_mode": {
    "name": "ipython",
    "version": 3
   },
   "file_extension": ".py",
   "mimetype": "text/x-python",
   "name": "python",
   "nbconvert_exporter": "python",
   "pygments_lexer": "ipython3",
   "version": "3.12.10"
  }
 },
 "nbformat": 4,
 "nbformat_minor": 5
}
