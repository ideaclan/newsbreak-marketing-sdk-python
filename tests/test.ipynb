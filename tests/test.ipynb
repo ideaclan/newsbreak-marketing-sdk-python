{
 "cells": [
  {
   "cell_type": "code",
   "execution_count": 1,
   "id": "3ac47935",
   "metadata": {},
   "outputs": [
    {
     "name": "stdout",
     "output_type": "stream",
     "text": [
      "Automatic pdb calling has been turned ON\n"
     ]
    }
   ],
   "source": [
    "%pdb on"
   ]
  },
  {
   "cell_type": "code",
   "execution_count": 2,
   "id": "48565a42",
   "metadata": {},
   "outputs": [],
   "source": [
    "import sys\n",
    "if '/Users/sumansaurabh/IdeaClan/newsbreak_marketing/src' not in sys.path:\n",
    "    sys.path.append('/Users/sumansaurabh/IdeaClan/newsbreak_marketing/src')"
   ]
  },
  {
   "cell_type": "code",
   "execution_count": 3,
   "id": "60ad20c5",
   "metadata": {},
   "outputs": [],
   "source": [
    "access_token = '3d8a7a49-bb3e-4201-b03b-29d0a1f3b348'\n",
    "ad_account_id = '1942158153761857538'\n",
    "\n",
    "from newsbreak_marketing import APISession\n",
    "\n",
    "session = APISession(access_token=access_token)"
   ]
  },
  {
   "cell_type": "code",
   "execution_count": 4,
   "id": "c7290e19",
   "metadata": {},
   "outputs": [],
   "source": [
    "from newsbreak_marketing.campaign import Campaign, CampaignObjective\n",
    "\n",
    "camp = Campaign(ad_account_id=ad_account_id)"
   ]
  },
  {
   "cell_type": "code",
   "execution_count": 5,
   "id": "65f4d3d5",
   "metadata": {},
   "outputs": [],
   "source": [
    "camp = await camp.create(name='testpy',objective=CampaignObjective.WEB_CONVERSION,ad_account_id=ad_account_id)"
   ]
  },
  {
   "cell_type": "code",
   "execution_count": 6,
   "id": "00e9babf",
   "metadata": {},
   "outputs": [],
   "source": [
    "camp = await camp.update(campaign_id=camp.id,name='testpy1')"
   ]
  },
  {
   "cell_type": "code",
   "execution_count": 7,
   "id": "e7fb9b25",
   "metadata": {},
   "outputs": [
    {
     "data": {
      "text/plain": [
       "'testpy1'"
      ]
     },
     "execution_count": 7,
     "metadata": {},
     "output_type": "execute_result"
    }
   ],
   "source": [
    "camp.name"
   ]
  },
  {
   "cell_type": "code",
   "execution_count": 8,
   "id": "cfc58443",
   "metadata": {},
   "outputs": [
    {
     "data": {
      "text/plain": [
       "<Status.ON: 'ON'>"
      ]
     },
     "execution_count": 8,
     "metadata": {},
     "output_type": "execute_result"
    }
   ],
   "source": [
    "camp.status"
   ]
  },
  {
   "cell_type": "code",
   "execution_count": 9,
   "id": "e361674c",
   "metadata": {},
   "outputs": [],
   "source": [
    "from newsbreak_marketing import Status\n",
    "camp = await camp.update_status(campaign_id=camp.id,status=Status.OFF)"
   ]
  },
  {
   "cell_type": "code",
   "execution_count": 10,
   "id": "8be3d216",
   "metadata": {},
   "outputs": [
    {
     "data": {
      "text/plain": [
       "<Status.OFF: 'OFF'>"
      ]
     },
     "execution_count": 10,
     "metadata": {},
     "output_type": "execute_result"
    }
   ],
   "source": [
    "camp.status"
   ]
  },
  {
   "cell_type": "code",
   "execution_count": 11,
   "id": "603ad777",
   "metadata": {},
   "outputs": [],
   "source": [
    "from newsbreak_marketing.ad_set import AdSet\n",
    "\n",
    "adset = AdSet(ad_account_id=ad_account_id, campaign_id=camp.id)"
   ]
  },
  {
   "cell_type": "code",
   "execution_count": 12,
   "id": "9d8f0869",
   "metadata": {},
   "outputs": [],
   "source": [
    "from newsbreak_marketing.ad_set import Targeting, AdSetBudgetType, AdSetBidType, AdSetDeliveryRate\n",
    "\n",
    "adset = await adset.create(name='py1',budget_type=AdSetBudgetType.DAILY, budget=10000, start_time=1752067648, end_time=1752069999, bid_type=AdSetBidType.CPM, bit_rate=1000, delivery_rate=AdSetDeliveryRate.EVENLY, targeting=Targeting(),tracking_id=\"1842149917665583106\")"
   ]
  },
  {
   "cell_type": "code",
   "execution_count": 13,
   "id": "f198b6d0",
   "metadata": {},
   "outputs": [
    {
     "data": {
      "text/plain": [
       "'py1'"
      ]
     },
     "execution_count": 13,
     "metadata": {},
     "output_type": "execute_result"
    }
   ],
   "source": [
    "adset.name"
   ]
  },
  {
   "cell_type": "code",
   "execution_count": 15,
   "id": "b591c2b3",
   "metadata": {},
   "outputs": [],
   "source": [
    "from newsbreak_marketing.ad import asset_upload\n",
    "with open('/Users/sumansaurabh/Downloads/park.jpeg', 'rb') as f:\n",
    "    url = await asset_upload(session=session, ad_account_id=ad_account_id, media=f)"
   ]
  },
  {
   "cell_type": "code",
   "execution_count": 16,
   "id": "23d2d743",
   "metadata": {},
   "outputs": [
    {
     "name": "stdout",
     "output_type": "stream",
     "text": [
      "https://static.particlenews.com/nova/assets/1942158153761857538/1a0671f87c1c5bfb920f2f22a267298a7b70013f.jpeg\n"
     ]
    }
   ],
   "source": [
    "print(url)"
   ]
  },
  {
   "cell_type": "code",
   "execution_count": 17,
   "id": "d6486ed2",
   "metadata": {},
   "outputs": [],
   "source": [
    "from newsbreak_marketing.ad import Ad\n",
    "\n",
    "ad = Ad(ad_account_id=ad_account_id, ad_set_id=adset.id)"
   ]
  },
  {
   "cell_type": "code",
   "execution_count": 18,
   "id": "e5a23e1b",
   "metadata": {},
   "outputs": [
    {
     "ename": "APIResponseException",
     "evalue": "-1: None",
     "output_type": "error",
     "traceback": [
      "\u001b[31m---------------------------------------------------------------------------\u001b[39m",
      "\u001b[31mAPIResponseException\u001b[39m                      Traceback (most recent call last)",
      "\u001b[36mCell\u001b[39m\u001b[36m \u001b[39m\u001b[32mIn[18]\u001b[39m\u001b[32m, line 2\u001b[39m\n\u001b[32m      1\u001b[39m \u001b[38;5;28;01mfrom\u001b[39;00m\u001b[38;5;250m \u001b[39m\u001b[34;01mnewsbreak_marketing\u001b[39;00m\u001b[34;01m.\u001b[39;00m\u001b[34;01mad\u001b[39;00m\u001b[38;5;250m \u001b[39m\u001b[38;5;28;01mimport\u001b[39;00m CreativeType\n\u001b[32m----> \u001b[39m\u001b[32m2\u001b[39m ad = \u001b[38;5;28;01mawait\u001b[39;00m ad.create(name=\u001b[33m'\u001b[39m\u001b[33mady\u001b[39m\u001b[33m'\u001b[39m,click_through_url=[],impression_tracking_url=[],\u001b[38;5;28mtype\u001b[39m=CreativeType.IMAGE,headline=\u001b[33m'\u001b[39m\u001b[33mtest\u001b[39m\u001b[33m'\u001b[39m,asset_ulr=url,description=\u001b[33m'\u001b[39m\u001b[33mtestdddd\u001b[39m\u001b[33m'\u001b[39m,call_to_action=\u001b[33m'\u001b[39m\u001b[33mtest\u001b[39m\u001b[33m'\u001b[39m,brand_name=\u001b[33m'\u001b[39m\u001b[33mtest to\u001b[39m\u001b[33m'\u001b[39m,logo_url=\u001b[33m'\u001b[39m\u001b[33mhttps://tmsdemo.vercel.app/whitetms.svg\u001b[39m\u001b[33m'\u001b[39m,click_tracking_url=[])\n",
      "\u001b[36mFile \u001b[39m\u001b[32m~/IdeaClan/newsbreak_marketing/src/newsbreak_marketing/ad/ad_utils.py:87\u001b[39m, in \u001b[36mAd.create\u001b[39m\u001b[34m(self, name, click_tracking_url, impression_tracking_url, type, headline, asset_ulr, description, call_to_action, brand_name, logo_url, click_through_url, height, width, cover_url)\u001b[39m\n\u001b[32m     68\u001b[39m url = \u001b[33mf\u001b[39m\u001b[33m'\u001b[39m\u001b[38;5;132;01m{\u001b[39;00m\u001b[38;5;28mself\u001b[39m.api_version\u001b[38;5;132;01m}\u001b[39;00m\u001b[33m/ad/create\u001b[39m\u001b[33m'\u001b[39m    \n\u001b[32m     70\u001b[39m payloads = {\n\u001b[32m     71\u001b[39m     \u001b[33m\"\u001b[39m\u001b[33mname\u001b[39m\u001b[33m\"\u001b[39m: name,\n\u001b[32m     72\u001b[39m     \u001b[33m\"\u001b[39m\u001b[33madSetId\u001b[39m\u001b[33m\"\u001b[39m: \u001b[38;5;28mself\u001b[39m.ad_set_id,\n\u001b[32m   (...)\u001b[39m\u001b[32m     84\u001b[39m     \u001b[33m\"\u001b[39m\u001b[33mimpressionTrackingUrl\u001b[39m\u001b[33m\"\u001b[39m: impression_tracking_url\n\u001b[32m     85\u001b[39m }\n\u001b[32m---> \u001b[39m\u001b[32m87\u001b[39m data = \u001b[38;5;28;01mawait\u001b[39;00m request(\u001b[33m'\u001b[39m\u001b[33mPOST\u001b[39m\u001b[33m'\u001b[39m, url, \u001b[38;5;28mself\u001b[39m.headers, json=payloads)\n\u001b[32m     89\u001b[39m \u001b[38;5;28;01mreturn\u001b[39;00m \u001b[38;5;28mself\u001b[39m._maker(data)\n",
      "\u001b[36mFile \u001b[39m\u001b[32m~/IdeaClan/newsbreak_marketing/src/newsbreak_marketing/utils/api_request.py:21\u001b[39m, in \u001b[36mrequest\u001b[39m\u001b[34m(method, url, headers, json, params, data, files)\u001b[39m\n\u001b[32m     18\u001b[39m     \u001b[38;5;28;01mraise\u001b[39;00m APIRequestException(response.get(\u001b[33m'\u001b[39m\u001b[33merror\u001b[39m\u001b[33m'\u001b[39m),response.get(\u001b[33m'\u001b[39m\u001b[33mstatus\u001b[39m\u001b[33m'\u001b[39m))\n\u001b[32m     20\u001b[39m \u001b[38;5;28;01mif\u001b[39;00m code != \u001b[32m0\u001b[39m:\n\u001b[32m---> \u001b[39m\u001b[32m21\u001b[39m     \u001b[38;5;28;01mraise\u001b[39;00m APIResponseException(response.get(\u001b[33m'\u001b[39m\u001b[33merrList\u001b[39m\u001b[33m'\u001b[39m), code)\n\u001b[32m     23\u001b[39m \u001b[38;5;28;01mreturn\u001b[39;00m response.get(\u001b[33m'\u001b[39m\u001b[33mdata\u001b[39m\u001b[33m'\u001b[39m)\n",
      "\u001b[31mAPIResponseException\u001b[39m: -1: None"
     ]
    },
    {
     "name": "stdout",
     "output_type": "stream",
     "text": [
      "> \u001b[32m/Users/sumansaurabh/IdeaClan/newsbreak_marketing/src/newsbreak_marketing/utils/api_request.py\u001b[39m(\u001b[92m21\u001b[39m)\u001b[36mrequest\u001b[39m\u001b[34m()\u001b[39m\n",
      "\u001b[32m     19\u001b[39m \n",
      "\u001b[32m     20\u001b[39m     \u001b[38;5;28;01mif\u001b[39;00m code != \u001b[32m0\u001b[39m:\n",
      "\u001b[32m---> 21\u001b[39m         \u001b[38;5;28;01mraise\u001b[39;00m APIResponseException(response.get(\u001b[33m'errList'\u001b[39m), code)\n",
      "\u001b[32m     22\u001b[39m \n",
      "\u001b[32m     23\u001b[39m     \u001b[38;5;28;01mreturn\u001b[39;00m response.get(\u001b[33m'data'\u001b[39m)\n",
      "\n",
      "{'code': -1, 'errMsg': 'There is an issue with the ad platform that we are currently addressing. Please stay tuned for updates, and feel free to reach out to your Account Manager for more information. Thank you!'}\n"
     ]
    }
   ],
   "source": [
    "from newsbreak_marketing.ad import CreativeType\n",
    "ad = await ad.create(name='ady',click_through_url=[],impression_tracking_url=[],type=CreativeType.IMAGE,headline='test',asset_ulr=url,description='testdddd',call_to_action='test',brand_name='test to',logo_url='https://tmsdemo.vercel.app/whitetms.svg',click_tracking_url=[])"
   ]
  },
  {
   "cell_type": "code",
   "execution_count": null,
   "id": "0f3cd522",
   "metadata": {},
   "outputs": [],
   "source": [
    "access_token = '3d8a7a49-bb3e-4201-b03b-29d0a1f3b348'\n",
    "ad_account_id = '1942158153761857538'\n",
    "\n",
    "from newsbreak_marketing import APISession\n",
    "\n",
    "session = APISession(access_token=access_token)"
   ]
  }
 ],
 "metadata": {
  "kernelspec": {
   "display_name": ".venv",
   "language": "python",
   "name": "python3"
  },
  "language_info": {
   "codemirror_mode": {
    "name": "ipython",
    "version": 3
   },
   "file_extension": ".py",
   "mimetype": "text/x-python",
   "name": "python",
   "nbconvert_exporter": "python",
   "pygments_lexer": "ipython3",
   "version": "3.12.10"
  }
 },
 "nbformat": 4,
 "nbformat_minor": 5
}
