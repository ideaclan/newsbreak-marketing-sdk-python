{
 "cells": [
  {
   "cell_type": "code",
   "execution_count": 1,
   "id": "3ac47935",
   "metadata": {},
   "outputs": [
    {
     "name": "stdout",
     "output_type": "stream",
     "text": [
      "Automatic pdb calling has been turned ON\n"
     ]
    }
   ],
   "source": [
    "%pdb on"
   ]
  },
  {
   "cell_type": "code",
   "execution_count": 2,
   "id": "48565a42",
   "metadata": {},
   "outputs": [],
   "source": [
    "import sys\n",
    "if '/Users/sumansaurabh/IdeaClan/newsbreak_marketing/src' not in sys.path:\n",
    "    sys.path.append('/Users/sumansaurabh/IdeaClan/newsbreak_marketing/src')"
   ]
  },
  {
   "cell_type": "code",
   "execution_count": 3,
   "id": "60ad20c5",
   "metadata": {},
   "outputs": [],
   "source": [
    "access_token = '3d8a7a49-bb3e-4201-b03b-29d0a1f3b348'\n",
    "ad_account_id = '1942158153761857538'\n",
    "\n",
    "from newsbreak_marketing import APISession\n",
    "\n",
    "session = APISession(access_token=access_token)"
   ]
  },
  {
   "cell_type": "code",
   "execution_count": 4,
   "id": "c7290e19",
   "metadata": {},
   "outputs": [],
   "source": [
    "from newsbreak_marketing.campaign import Campaign, CampaignObjective\n",
    "\n",
    "camp = Campaign(ad_account_id=ad_account_id)"
   ]
  },
  {
   "cell_type": "code",
   "execution_count": null,
   "id": "65f4d3d5",
   "metadata": {},
   "outputs": [],
   "source": [
    "camp = await camp.create(name='testpy',objective=CampaignObjective.WEB_CONVERSION,ad_account_id=ad_account_id)"
   ]
  },
  {
   "cell_type": "code",
   "execution_count": 5,
   "id": "0071b47e",
   "metadata": {},
   "outputs": [],
   "source": [
    "\n",
    "\n",
    "camp = await camp.get(campaign_id='1942907882571583489')"
   ]
  },
  {
   "cell_type": "code",
   "execution_count": null,
   "id": "00e9babf",
   "metadata": {},
   "outputs": [
    {
     "data": {
      "text/plain": [
       "{'ad_account_id': '1942158153761857538',\n",
       " 'id': '1942907882571583489',\n",
       " 'org_id': '1942158153732497410',\n",
       " 'name': 'testpy',\n",
       " 'objective': <CampaignObjective.WEB_CONVERSION: 'WEB_CONVERSION'>,\n",
       " 'status': <Status.ON: 'ON'>,\n",
       " 'budget': None,\n",
       " 'online_status': <CampaignOnlineStatus.WARNING: 'WARNING'>,\n",
       " 'headers': {'Content-Type': 'application/json',\n",
       "  'Access-Token': '3d8a7a49-bb3e-4201-b03b-29d0a1f3b348'}}"
      ]
     },
     "execution_count": 7,
     "metadata": {},
     "output_type": "execute_result"
    }
   ],
   "source": []
  },
  {
   "cell_type": "code",
   "execution_count": null,
   "id": "e7fb9b25",
   "metadata": {},
   "outputs": [],
   "source": []
  }
 ],
 "metadata": {
  "kernelspec": {
   "display_name": ".venv",
   "language": "python",
   "name": "python3"
  },
  "language_info": {
   "codemirror_mode": {
    "name": "ipython",
    "version": 3
   },
   "file_extension": ".py",
   "mimetype": "text/x-python",
   "name": "python",
   "nbconvert_exporter": "python",
   "pygments_lexer": "ipython3",
   "version": "3.12.10"
  }
 },
 "nbformat": 4,
 "nbformat_minor": 5
}
