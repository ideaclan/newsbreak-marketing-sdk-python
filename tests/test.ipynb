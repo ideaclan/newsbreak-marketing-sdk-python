{
 "cells": [
  {
   "cell_type": "code",
   "execution_count": 1,
   "id": "3ac47935",
   "metadata": {},
   "outputs": [
    {
     "name": "stdout",
     "output_type": "stream",
     "text": [
      "Automatic pdb calling has been turned ON\n"
     ]
    }
   ],
   "source": [
    "%pdb on"
   ]
  },
  {
   "cell_type": "code",
   "execution_count": 2,
   "id": "48565a42",
   "metadata": {},
   "outputs": [],
   "source": [
    "import sys\n",
    "if '/Users/sumansaurabh/IdeaClan/newsbreak_marketing/src' not in sys.path:\n",
    "    sys.path.append('/Users/sumansaurabh/IdeaClan/newsbreak_marketing/src')"
   ]
  },
  {
   "cell_type": "code",
   "execution_count": 3,
   "id": "60ad20c5",
   "metadata": {},
   "outputs": [],
   "source": [
    "access_token = '3d8a7a49-bb3e-4201-b03b-29d0a1f3b348'\n",
    "ad_account_id = '1942158153761857538'\n",
    "\n",
    "from newsbreak_marketing import APISession\n",
    "\n",
    "session = APISession(access_token=access_token)"
   ]
  },
  {
   "cell_type": "code",
   "execution_count": 34,
   "id": "c7290e19",
   "metadata": {},
   "outputs": [],
   "source": [
    "from newsbreak_marketing.campaign import Campaign, CampaignObjective\n",
    "\n",
    "camp = Campaign(ad_account_id=ad_account_id)"
   ]
  },
  {
   "cell_type": "code",
   "execution_count": 35,
   "id": "65f4d3d5",
   "metadata": {},
   "outputs": [],
   "source": [
    "camp = await camp.create(name='testpy',objective=CampaignObjective.WEB_CONVERSION,ad_account_id=ad_account_id)"
   ]
  },
  {
   "cell_type": "code",
   "execution_count": 36,
   "id": "00e9babf",
   "metadata": {},
   "outputs": [],
   "source": [
    "camp = await camp.update(campaign_id=camp.id,name='testpy1')"
   ]
  },
  {
   "cell_type": "code",
   "execution_count": 37,
   "id": "e7fb9b25",
   "metadata": {},
   "outputs": [
    {
     "data": {
      "text/plain": [
       "'testpy1'"
      ]
     },
     "execution_count": 37,
     "metadata": {},
     "output_type": "execute_result"
    }
   ],
   "source": [
    "camp.name"
   ]
  },
  {
   "cell_type": "code",
   "execution_count": 38,
   "id": "cfc58443",
   "metadata": {},
   "outputs": [
    {
     "data": {
      "text/plain": [
       "<Status.ON: 'ON'>"
      ]
     },
     "execution_count": 38,
     "metadata": {},
     "output_type": "execute_result"
    }
   ],
   "source": [
    "camp.status"
   ]
  },
  {
   "cell_type": "code",
   "execution_count": 39,
   "id": "e361674c",
   "metadata": {},
   "outputs": [],
   "source": [
    "from newsbreak_marketing import Status\n",
    "camp = await camp.update_status(campaign_id=camp.id,status=Status.OFF)"
   ]
  },
  {
   "cell_type": "code",
   "execution_count": 40,
   "id": "8be3d216",
   "metadata": {},
   "outputs": [
    {
     "data": {
      "text/plain": [
       "<Status.OFF: 'OFF'>"
      ]
     },
     "execution_count": 40,
     "metadata": {},
     "output_type": "execute_result"
    }
   ],
   "source": [
    "camp.status"
   ]
  },
  {
   "cell_type": "code",
   "execution_count": 4,
   "id": "603ad777",
   "metadata": {},
   "outputs": [],
   "source": [
    "from newsbreak_marketing.ad_set import AdSet\n",
    "\n",
    "adset = AdSet(ad_account_id=ad_account_id, campaign_id='1942907882571583489')\n",
    "\n",
    "adset = await adset.get(ad_set_id='1943202884828811266')"
   ]
  },
  {
   "cell_type": "code",
   "execution_count": 42,
   "id": "9d8f0869",
   "metadata": {},
   "outputs": [],
   "source": [
    "from newsbreak_marketing.ad_set import Targeting, AdSetBudgetType, AdSetBidType, AdSetDeliveryRate\n",
    "\n",
    "adset = await adset.create(name='py1',budget_type=AdSetBudgetType.DAILY, budget=10000, start_time=1752130614, end_time=1752199999, bid_type=AdSetBidType.CPM, bit_rate=1000, delivery_rate=AdSetDeliveryRate.EVENLY, targeting=Targeting(),tracking_id=\"1943201355486625793\")"
   ]
  },
  {
   "cell_type": "code",
   "execution_count": 5,
   "id": "2893f960",
   "metadata": {},
   "outputs": [
    {
     "data": {
      "text/plain": [
       "{'campaign_id': '1943202867422449665',\n",
       " 'id': '1943202884828811266',\n",
       " 'org_id': '1942158153732497410',\n",
       " 'ad_account_id': '1942158153761857538',\n",
       " 'name': 'py1',\n",
       " 'tracking_id': '1943201355486625793',\n",
       " 'budget': 10000,\n",
       " 'status': <Status.ON: 'ON'>,\n",
       " 'budget_type': <AdSetBudgetType.DAILY: 'DAILY'>,\n",
       " 'start_time': 1752130614,\n",
       " 'end_time': 1752199999,\n",
       " 'schedule': None,\n",
       " 'bid_type': <AdSetBidType.CPM: 'CPM'>,\n",
       " 'bid_rate': 1000,\n",
       " 'delivery_rate': <AdSetDeliveryRate.EVENLY: 'EVENLY'>,\n",
       " 'optimization': True,\n",
       " 'targeting': Targeting(location=Location(positive=['all'], negative=None), gender=Gender(positive=[<GenderType.ALL: 'all'>]), age_group=AgeGroup(positive=[<AgeType.ALL: 'all'>]), language=Language(positive=[<LanguageType.ALL: 'all'>]), interest=Interest(positive=[<InterestType.ALL: 'all'>]), os=OS(positive=[<OSType.ALL: 'all'>]), manufacturer=Manufacturer(positive=[<ManufacturerType.ALL: 'all'>]), carrier=Carrier(positive=[<CarrierType.ALL: 'all'>]), network=Network(positive=[<NetworkType.ALL: 'all'>])),\n",
       " 'headers': {'Content-Type': 'application/json',\n",
       "  'Access-Token': '3d8a7a49-bb3e-4201-b03b-29d0a1f3b348'}}"
      ]
     },
     "execution_count": 5,
     "metadata": {},
     "output_type": "execute_result"
    }
   ],
   "source": [
    "adset.__dict__"
   ]
  },
  {
   "cell_type": "code",
   "execution_count": 43,
   "id": "f198b6d0",
   "metadata": {},
   "outputs": [
    {
     "data": {
      "text/plain": [
       "'py1'"
      ]
     },
     "execution_count": 43,
     "metadata": {},
     "output_type": "execute_result"
    }
   ],
   "source": [
    "adset.name"
   ]
  },
  {
   "cell_type": "code",
   "execution_count": 44,
   "id": "b591c2b3",
   "metadata": {},
   "outputs": [],
   "source": [
    "from newsbreak_marketing.ad import asset_upload\n",
    "with open('/Users/sumansaurabh/Downloads/park.jpeg', 'rb') as f:\n",
    "    url = await asset_upload(session=session, ad_account_id=ad_account_id, media=f)"
   ]
  },
  {
   "cell_type": "code",
   "execution_count": 45,
   "id": "23d2d743",
   "metadata": {},
   "outputs": [
    {
     "name": "stdout",
     "output_type": "stream",
     "text": [
      "https://static.particlenews.com/nova/assets/1942158153761857538/1a0671f87c1c5bfb920f2f22a267298a7b70013f.jpeg\n"
     ]
    }
   ],
   "source": [
    "print(url)"
   ]
  },
  {
   "cell_type": "code",
   "execution_count": 51,
   "id": "425d6f51",
   "metadata": {},
   "outputs": [
    {
     "data": {
      "text/plain": [
       "'1943202884828811266'"
      ]
     },
     "execution_count": 51,
     "metadata": {},
     "output_type": "execute_result"
    }
   ],
   "source": [
    "adset.id"
   ]
  },
  {
   "cell_type": "code",
   "execution_count": 4,
   "id": "ab7ca29a",
   "metadata": {},
   "outputs": [],
   "source": [
    "access_token = '3d8a7a49-bb3e-4201-b03b-29d0a1f3b348'\n",
    "ad_account_id = '1942158153761857538'\n",
    "\n",
    "from newsbreak_marketing import APISession\n",
    "\n",
    "session = APISession(access_token=access_token)"
   ]
  },
  {
   "cell_type": "code",
   "execution_count": 19,
   "id": "d6486ed2",
   "metadata": {},
   "outputs": [],
   "source": [
    "from newsbreak_marketing.ad import Ad\n",
    "\n",
    "ad = Ad(ad_account_id=ad_account_id, ad_set_id='1943202884828811266')"
   ]
  },
  {
   "cell_type": "code",
   "execution_count": 6,
   "id": "e5a23e1b",
   "metadata": {},
   "outputs": [],
   "source": [
    "from newsbreak_marketing.ad import CreativeType\n",
    "ad = await ad.create(name='ady',click_through_url='https://aqua-emlynn-33.tiiny.site/',impression_tracking_url=['https://aqua-emlynn-33.tiiny.site/'],type=CreativeType.IMAGE,headline='test',asset_ulr='https://static.particlenews.com/nova/assets/1942158153761857538/1a0671f87c1c5bfb920f2f22a267298a7b70013f.jpeg',description='testdddd',call_to_action='Suscribe',brand_name='test to',logo_url='https://static.particlenews.com/nova/assets/1942158153761857538/1a0671f87c1c5bfb920f2f22a267298a7b70013f.jpeg',click_tracking_url=[\n",
    "    \"https://business.newsbreak.com/tracking/redirect?nb_event_type=AD_EVENT_IMPRESSION&nb_source=gam_3p_tracking&nb_device_id=%%ADVERTISING_IDENTIFIER_PLAIN%%&nb_flight_id=%eaid!&nb_creative_id=%ecid!&uid_01=%%PATTERN:uid_01%%&uid_02=%%PATTERN:uid_02%%&uid_03=%%PATTERN:uid_03%%&uid_04=%%PATTERN:uid_04%%&uid_05=%%PATTERN:uid_05%%&uid_06=%%PATTERN:uid_06%%&uid_07=%%PATTERN:uid_07%%&uid_08=%%PATTERN:uid_08%%\"\n",
    "  ])"
   ]
  },
  {
   "cell_type": "code",
   "execution_count": 7,
   "id": "f5049760",
   "metadata": {},
   "outputs": [
    {
     "data": {
      "text/plain": [
       "{'id': '1943251551824662530',\n",
       " 'name': 'ady',\n",
       " 'ad_account_id': '1942158153761857538',\n",
       " 'campaign_id': '1943202867422449665',\n",
       " 'ad_set_id': '1943202884828811266',\n",
       " 'click_tracking_url': ['https://business.newsbreak.com/tracking/redirect?nb_event_type=AD_EVENT_IMPRESSION&nb_source=gam_3p_tracking&nb_device_id=%%ADVERTISING_IDENTIFIER_PLAIN%%&nb_flight_id=%eaid!&nb_creative_id=%ecid!&uid_01=%%PATTERN:uid_01%%&uid_02=%%PATTERN:uid_02%%&uid_03=%%PATTERN:uid_03%%&uid_04=%%PATTERN:uid_04%%&uid_05=%%PATTERN:uid_05%%&uid_06=%%PATTERN:uid_06%%&uid_07=%%PATTERN:uid_07%%&uid_08=%%PATTERN:uid_08%%'],\n",
       " 'impression_tracking_url': ['https://aqua-emlynn-33.tiiny.site/'],\n",
       " 'status': <Status.ON: 'ON'>,\n",
       " 'audit_status': 'PENDING',\n",
       " 'status_txt': None,\n",
       " 'creative': Creative(type=<CreativeType.IMAGE: 'IMAGE'>, content=CreativeContent(headline='test', asset_url='https://static.particlenews.com/nova/assets/1942158153761857538/1a0671f87c1c5bfb920f2f22a267298a7b70013f.jpeg', height=5568, width=3712, cover_url=None, description='testdddd', call_to_action='Suscribe', brand_name='test to', logo_url='https://static.particlenews.com/nova/assets/1942158153761857538/1a0671f87c1c5bfb920f2f22a267298a7b70013f.jpeg', click_through_url='https://aqua-emlynn-33.tiiny.site/')),\n",
       " 'headers': {'Content-Type': 'application/json',\n",
       "  'Access-Token': '3d8a7a49-bb3e-4201-b03b-29d0a1f3b348'}}"
      ]
     },
     "execution_count": 7,
     "metadata": {},
     "output_type": "execute_result"
    }
   ],
   "source": [
    "ad.__dict__"
   ]
  },
  {
   "cell_type": "code",
   "execution_count": 8,
   "id": "54ab6f73",
   "metadata": {},
   "outputs": [
    {
     "data": {
      "text/plain": [
       "'1943251551824662530'"
      ]
     },
     "execution_count": 8,
     "metadata": {},
     "output_type": "execute_result"
    }
   ],
   "source": [
    "ad.id"
   ]
  },
  {
   "cell_type": "code",
   "execution_count": 9,
   "id": "59b4024a",
   "metadata": {},
   "outputs": [
    {
     "ename": "WriteTimeout",
     "evalue": "",
     "output_type": "error",
     "traceback": [
      "\u001b[31m---------------------------------------------------------------------------\u001b[39m",
      "\u001b[31mWriteTimeout\u001b[39m                              Traceback (most recent call last)",
      "\u001b[36mFile \u001b[39m\u001b[32m~/IdeaClan/newsbreak_marketing/.venv/lib/python3.12/site-packages/httpx/_transports/default.py:101\u001b[39m, in \u001b[36mmap_httpcore_exceptions\u001b[39m\u001b[34m()\u001b[39m\n\u001b[32m    100\u001b[39m \u001b[38;5;28;01mtry\u001b[39;00m:\n\u001b[32m--> \u001b[39m\u001b[32m101\u001b[39m     \u001b[38;5;28;01myield\u001b[39;00m\n\u001b[32m    102\u001b[39m \u001b[38;5;28;01mexcept\u001b[39;00m \u001b[38;5;167;01mException\u001b[39;00m \u001b[38;5;28;01mas\u001b[39;00m exc:\n",
      "\u001b[36mFile \u001b[39m\u001b[32m~/IdeaClan/newsbreak_marketing/.venv/lib/python3.12/site-packages/httpx/_transports/default.py:394\u001b[39m, in \u001b[36mAsyncHTTPTransport.handle_async_request\u001b[39m\u001b[34m(self, request)\u001b[39m\n\u001b[32m    393\u001b[39m \u001b[38;5;28;01mwith\u001b[39;00m map_httpcore_exceptions():\n\u001b[32m--> \u001b[39m\u001b[32m394\u001b[39m     resp = \u001b[38;5;28;01mawait\u001b[39;00m \u001b[38;5;28mself\u001b[39m._pool.handle_async_request(req)\n\u001b[32m    396\u001b[39m \u001b[38;5;28;01massert\u001b[39;00m \u001b[38;5;28misinstance\u001b[39m(resp.stream, typing.AsyncIterable)\n",
      "\u001b[36mFile \u001b[39m\u001b[32m~/IdeaClan/newsbreak_marketing/.venv/lib/python3.12/site-packages/httpcore/_async/connection_pool.py:256\u001b[39m, in \u001b[36mAsyncConnectionPool.handle_async_request\u001b[39m\u001b[34m(self, request)\u001b[39m\n\u001b[32m    255\u001b[39m     \u001b[38;5;28;01mawait\u001b[39;00m \u001b[38;5;28mself\u001b[39m._close_connections(closing)\n\u001b[32m--> \u001b[39m\u001b[32m256\u001b[39m     \u001b[38;5;28;01mraise\u001b[39;00m exc \u001b[38;5;28;01mfrom\u001b[39;00m\u001b[38;5;250m \u001b[39m\u001b[38;5;28;01mNone\u001b[39;00m\n\u001b[32m    258\u001b[39m \u001b[38;5;66;03m# Return the response. Note that in this case we still have to manage\u001b[39;00m\n\u001b[32m    259\u001b[39m \u001b[38;5;66;03m# the point at which the response is closed.\u001b[39;00m\n",
      "\u001b[36mFile \u001b[39m\u001b[32m~/IdeaClan/newsbreak_marketing/.venv/lib/python3.12/site-packages/httpcore/_async/connection_pool.py:236\u001b[39m, in \u001b[36mAsyncConnectionPool.handle_async_request\u001b[39m\u001b[34m(self, request)\u001b[39m\n\u001b[32m    234\u001b[39m \u001b[38;5;28;01mtry\u001b[39;00m:\n\u001b[32m    235\u001b[39m     \u001b[38;5;66;03m# Send the request on the assigned connection.\u001b[39;00m\n\u001b[32m--> \u001b[39m\u001b[32m236\u001b[39m     response = \u001b[38;5;28;01mawait\u001b[39;00m connection.handle_async_request(\n\u001b[32m    237\u001b[39m         pool_request.request\n\u001b[32m    238\u001b[39m     )\n\u001b[32m    239\u001b[39m \u001b[38;5;28;01mexcept\u001b[39;00m ConnectionNotAvailable:\n\u001b[32m    240\u001b[39m     \u001b[38;5;66;03m# In some cases a connection may initially be available to\u001b[39;00m\n\u001b[32m    241\u001b[39m     \u001b[38;5;66;03m# handle a request, but then become unavailable.\u001b[39;00m\n\u001b[32m    242\u001b[39m     \u001b[38;5;66;03m#\u001b[39;00m\n\u001b[32m    243\u001b[39m     \u001b[38;5;66;03m# In this case we clear the connection and try again.\u001b[39;00m\n",
      "\u001b[36mFile \u001b[39m\u001b[32m~/IdeaClan/newsbreak_marketing/.venv/lib/python3.12/site-packages/httpcore/_async/connection.py:103\u001b[39m, in \u001b[36mAsyncHTTPConnection.handle_async_request\u001b[39m\u001b[34m(self, request)\u001b[39m\n\u001b[32m    101\u001b[39m     \u001b[38;5;28;01mraise\u001b[39;00m exc\n\u001b[32m--> \u001b[39m\u001b[32m103\u001b[39m \u001b[38;5;28;01mreturn\u001b[39;00m \u001b[38;5;28;01mawait\u001b[39;00m \u001b[38;5;28mself\u001b[39m._connection.handle_async_request(request)\n",
      "\u001b[36mFile \u001b[39m\u001b[32m~/IdeaClan/newsbreak_marketing/.venv/lib/python3.12/site-packages/httpcore/_async/http11.py:136\u001b[39m, in \u001b[36mAsyncHTTP11Connection.handle_async_request\u001b[39m\u001b[34m(self, request)\u001b[39m\n\u001b[32m    135\u001b[39m         \u001b[38;5;28;01mawait\u001b[39;00m \u001b[38;5;28mself\u001b[39m._response_closed()\n\u001b[32m--> \u001b[39m\u001b[32m136\u001b[39m \u001b[38;5;28;01mraise\u001b[39;00m exc\n",
      "\u001b[36mFile \u001b[39m\u001b[32m~/IdeaClan/newsbreak_marketing/.venv/lib/python3.12/site-packages/httpcore/_async/http11.py:88\u001b[39m, in \u001b[36mAsyncHTTP11Connection.handle_async_request\u001b[39m\u001b[34m(self, request)\u001b[39m\n\u001b[32m     87\u001b[39m     \u001b[38;5;28;01masync\u001b[39;00m \u001b[38;5;28;01mwith\u001b[39;00m Trace(\u001b[33m\"\u001b[39m\u001b[33msend_request_body\u001b[39m\u001b[33m\"\u001b[39m, logger, request, kwargs) \u001b[38;5;28;01mas\u001b[39;00m trace:\n\u001b[32m---> \u001b[39m\u001b[32m88\u001b[39m         \u001b[38;5;28;01mawait\u001b[39;00m \u001b[38;5;28mself\u001b[39m._send_request_body(**kwargs)\n\u001b[32m     89\u001b[39m \u001b[38;5;28;01mexcept\u001b[39;00m WriteError:\n\u001b[32m     90\u001b[39m     \u001b[38;5;66;03m# If we get a write error while we're writing the request,\u001b[39;00m\n\u001b[32m     91\u001b[39m     \u001b[38;5;66;03m# then we supress this error and move on to attempting to\u001b[39;00m\n\u001b[32m     92\u001b[39m     \u001b[38;5;66;03m# read the response. Servers can sometimes close the request\u001b[39;00m\n\u001b[32m     93\u001b[39m     \u001b[38;5;66;03m# pre-emptively and then respond with a well formed HTTP\u001b[39;00m\n\u001b[32m     94\u001b[39m     \u001b[38;5;66;03m# error response.\u001b[39;00m\n",
      "\u001b[36mFile \u001b[39m\u001b[32m~/IdeaClan/newsbreak_marketing/.venv/lib/python3.12/site-packages/httpcore/_async/http11.py:159\u001b[39m, in \u001b[36mAsyncHTTP11Connection._send_request_body\u001b[39m\u001b[34m(self, request)\u001b[39m\n\u001b[32m    158\u001b[39m     event = h11.Data(data=chunk)\n\u001b[32m--> \u001b[39m\u001b[32m159\u001b[39m     \u001b[38;5;28;01mawait\u001b[39;00m \u001b[38;5;28mself\u001b[39m._send_event(event, timeout=timeout)\n\u001b[32m    161\u001b[39m \u001b[38;5;28;01mawait\u001b[39;00m \u001b[38;5;28mself\u001b[39m._send_event(h11.EndOfMessage(), timeout=timeout)\n",
      "\u001b[36mFile \u001b[39m\u001b[32m~/IdeaClan/newsbreak_marketing/.venv/lib/python3.12/site-packages/httpcore/_async/http11.py:166\u001b[39m, in \u001b[36mAsyncHTTP11Connection._send_event\u001b[39m\u001b[34m(self, event, timeout)\u001b[39m\n\u001b[32m    165\u001b[39m \u001b[38;5;28;01mif\u001b[39;00m bytes_to_send \u001b[38;5;129;01mis\u001b[39;00m \u001b[38;5;129;01mnot\u001b[39;00m \u001b[38;5;28;01mNone\u001b[39;00m:\n\u001b[32m--> \u001b[39m\u001b[32m166\u001b[39m     \u001b[38;5;28;01mawait\u001b[39;00m \u001b[38;5;28mself\u001b[39m._network_stream.write(bytes_to_send, timeout=timeout)\n",
      "\u001b[36mFile \u001b[39m\u001b[32m~/IdeaClan/newsbreak_marketing/.venv/lib/python3.12/site-packages/httpcore/_backends/anyio.py:48\u001b[39m, in \u001b[36mAnyIOStream.write\u001b[39m\u001b[34m(self, buffer, timeout)\u001b[39m\n\u001b[32m     43\u001b[39m exc_map = {\n\u001b[32m     44\u001b[39m     \u001b[38;5;167;01mTimeoutError\u001b[39;00m: WriteTimeout,\n\u001b[32m     45\u001b[39m     anyio.BrokenResourceError: WriteError,\n\u001b[32m     46\u001b[39m     anyio.ClosedResourceError: WriteError,\n\u001b[32m     47\u001b[39m }\n\u001b[32m---> \u001b[39m\u001b[32m48\u001b[39m \u001b[38;5;28;01mwith\u001b[39;00m map_exceptions(exc_map):\n\u001b[32m     49\u001b[39m     \u001b[38;5;28;01mwith\u001b[39;00m anyio.fail_after(timeout):\n",
      "\u001b[36mFile \u001b[39m\u001b[32m/Library/Frameworks/Python.framework/Versions/3.12/lib/python3.12/contextlib.py:158\u001b[39m, in \u001b[36m_GeneratorContextManager.__exit__\u001b[39m\u001b[34m(self, typ, value, traceback)\u001b[39m\n\u001b[32m    157\u001b[39m \u001b[38;5;28;01mtry\u001b[39;00m:\n\u001b[32m--> \u001b[39m\u001b[32m158\u001b[39m     \u001b[38;5;28;43mself\u001b[39;49m\u001b[43m.\u001b[49m\u001b[43mgen\u001b[49m\u001b[43m.\u001b[49m\u001b[43mthrow\u001b[49m\u001b[43m(\u001b[49m\u001b[43mvalue\u001b[49m\u001b[43m)\u001b[49m\n\u001b[32m    159\u001b[39m \u001b[38;5;28;01mexcept\u001b[39;00m \u001b[38;5;167;01mStopIteration\u001b[39;00m \u001b[38;5;28;01mas\u001b[39;00m exc:\n\u001b[32m    160\u001b[39m     \u001b[38;5;66;03m# Suppress StopIteration *unless* it's the same exception that\u001b[39;00m\n\u001b[32m    161\u001b[39m     \u001b[38;5;66;03m# was passed to throw().  This prevents a StopIteration\u001b[39;00m\n\u001b[32m    162\u001b[39m     \u001b[38;5;66;03m# raised inside the \"with\" statement from being suppressed.\u001b[39;00m\n",
      "\u001b[36mFile \u001b[39m\u001b[32m~/IdeaClan/newsbreak_marketing/.venv/lib/python3.12/site-packages/httpcore/_exceptions.py:14\u001b[39m, in \u001b[36mmap_exceptions\u001b[39m\u001b[34m(map)\u001b[39m\n\u001b[32m     13\u001b[39m     \u001b[38;5;28;01mif\u001b[39;00m \u001b[38;5;28misinstance\u001b[39m(exc, from_exc):\n\u001b[32m---> \u001b[39m\u001b[32m14\u001b[39m         \u001b[38;5;28;01mraise\u001b[39;00m to_exc(exc) \u001b[38;5;28;01mfrom\u001b[39;00m\u001b[38;5;250m \u001b[39m\u001b[34;01mexc\u001b[39;00m\n\u001b[32m     15\u001b[39m \u001b[38;5;28;01mraise\u001b[39;00m\n",
      "\u001b[31mWriteTimeout\u001b[39m: ",
      "\nThe above exception was the direct cause of the following exception:\n",
      "\u001b[31mWriteTimeout\u001b[39m                              Traceback (most recent call last)",
      "\u001b[36mCell\u001b[39m\u001b[36m \u001b[39m\u001b[32mIn[9]\u001b[39m\u001b[32m, line 3\u001b[39m\n\u001b[32m      1\u001b[39m \u001b[38;5;28;01mfrom\u001b[39;00m\u001b[38;5;250m \u001b[39m\u001b[34;01mnewsbreak_marketing\u001b[39;00m\u001b[34;01m.\u001b[39;00m\u001b[34;01mad\u001b[39;00m\u001b[38;5;250m \u001b[39m\u001b[38;5;28;01mimport\u001b[39;00m asset_upload\n\u001b[32m      2\u001b[39m \u001b[38;5;28;01mwith\u001b[39;00m \u001b[38;5;28mopen\u001b[39m(\u001b[33m'\u001b[39m\u001b[33m/Users/sumansaurabh/Downloads/5532765-uhd_2160_4096_25fps.mp4\u001b[39m\u001b[33m'\u001b[39m, \u001b[33m'\u001b[39m\u001b[33mrb\u001b[39m\u001b[33m'\u001b[39m) \u001b[38;5;28;01mas\u001b[39;00m f:\n\u001b[32m----> \u001b[39m\u001b[32m3\u001b[39m     url = \u001b[38;5;28;01mawait\u001b[39;00m asset_upload(session=session, ad_account_id=ad_account_id, media=f)\n\u001b[32m      4\u001b[39m url\n",
      "\u001b[36mFile \u001b[39m\u001b[32m~/IdeaClan/newsbreak_marketing/src/newsbreak_marketing/ad/asset.py:28\u001b[39m, in \u001b[36mupload\u001b[39m\u001b[34m(session, ad_account_id, media, api_version)\u001b[39m\n\u001b[32m     22\u001b[39m mime_type = mime_type \u001b[38;5;129;01mor\u001b[39;00m \u001b[33m\"\u001b[39m\u001b[33mapplication/octet-stream\u001b[39m\u001b[33m\"\u001b[39m\n\u001b[32m     24\u001b[39m files = {\n\u001b[32m     25\u001b[39m     \u001b[33m'\u001b[39m\u001b[33masset\u001b[39m\u001b[33m'\u001b[39m: (filename, media, mime_type)\n\u001b[32m     26\u001b[39m }\n\u001b[32m---> \u001b[39m\u001b[32m28\u001b[39m data = \u001b[38;5;28;01mawait\u001b[39;00m request(\u001b[33m'\u001b[39m\u001b[33mPOST\u001b[39m\u001b[33m'\u001b[39m, url, headers, data=data, files=files)\n\u001b[32m     30\u001b[39m \u001b[38;5;28;01mreturn\u001b[39;00m data[\u001b[33m'\u001b[39m\u001b[33massetUrl\u001b[39m\u001b[33m'\u001b[39m]\n",
      "\u001b[36mFile \u001b[39m\u001b[32m~/IdeaClan/newsbreak_marketing/src/newsbreak_marketing/utils/api_request.py:10\u001b[39m, in \u001b[36mrequest\u001b[39m\u001b[34m(method, url, headers, json, params, data, files)\u001b[39m\n\u001b[32m      7\u001b[39m url = \u001b[33mf\u001b[39m\u001b[33m'\u001b[39m\u001b[38;5;132;01m{\u001b[39;00mROOT_URL\u001b[38;5;132;01m}\u001b[39;00m\u001b[33m/\u001b[39m\u001b[38;5;132;01m{\u001b[39;00murl\u001b[38;5;132;01m}\u001b[39;00m\u001b[33m'\u001b[39m\n\u001b[32m      9\u001b[39m \u001b[38;5;28;01masync\u001b[39;00m \u001b[38;5;28;01mwith\u001b[39;00m httpx.AsyncClient() \u001b[38;5;28;01mas\u001b[39;00m client:\n\u001b[32m---> \u001b[39m\u001b[32m10\u001b[39m     response = \u001b[38;5;28;01mawait\u001b[39;00m client.request(method,url, headers=headers, json=json, params=params, data=data, files=files)            \n\u001b[32m     13\u001b[39m response = response.json()\n\u001b[32m     15\u001b[39m code = response.get(\u001b[33m'\u001b[39m\u001b[33mcode\u001b[39m\u001b[33m'\u001b[39m)\n",
      "\u001b[36mFile \u001b[39m\u001b[32m~/IdeaClan/newsbreak_marketing/.venv/lib/python3.12/site-packages/httpx/_client.py:1540\u001b[39m, in \u001b[36mAsyncClient.request\u001b[39m\u001b[34m(self, method, url, content, data, files, json, params, headers, cookies, auth, follow_redirects, timeout, extensions)\u001b[39m\n\u001b[32m   1525\u001b[39m     warnings.warn(message, \u001b[38;5;167;01mDeprecationWarning\u001b[39;00m, stacklevel=\u001b[32m2\u001b[39m)\n\u001b[32m   1527\u001b[39m request = \u001b[38;5;28mself\u001b[39m.build_request(\n\u001b[32m   1528\u001b[39m     method=method,\n\u001b[32m   1529\u001b[39m     url=url,\n\u001b[32m   (...)\u001b[39m\u001b[32m   1538\u001b[39m     extensions=extensions,\n\u001b[32m   1539\u001b[39m )\n\u001b[32m-> \u001b[39m\u001b[32m1540\u001b[39m \u001b[38;5;28;01mreturn\u001b[39;00m \u001b[38;5;28;01mawait\u001b[39;00m \u001b[38;5;28mself\u001b[39m.send(request, auth=auth, follow_redirects=follow_redirects)\n",
      "\u001b[36mFile \u001b[39m\u001b[32m~/IdeaClan/newsbreak_marketing/.venv/lib/python3.12/site-packages/httpx/_client.py:1629\u001b[39m, in \u001b[36mAsyncClient.send\u001b[39m\u001b[34m(self, request, stream, auth, follow_redirects)\u001b[39m\n\u001b[32m   1625\u001b[39m \u001b[38;5;28mself\u001b[39m._set_timeout(request)\n\u001b[32m   1627\u001b[39m auth = \u001b[38;5;28mself\u001b[39m._build_request_auth(request, auth)\n\u001b[32m-> \u001b[39m\u001b[32m1629\u001b[39m response = \u001b[38;5;28;01mawait\u001b[39;00m \u001b[38;5;28mself\u001b[39m._send_handling_auth(\n\u001b[32m   1630\u001b[39m     request,\n\u001b[32m   1631\u001b[39m     auth=auth,\n\u001b[32m   1632\u001b[39m     follow_redirects=follow_redirects,\n\u001b[32m   1633\u001b[39m     history=[],\n\u001b[32m   1634\u001b[39m )\n\u001b[32m   1635\u001b[39m \u001b[38;5;28;01mtry\u001b[39;00m:\n\u001b[32m   1636\u001b[39m     \u001b[38;5;28;01mif\u001b[39;00m \u001b[38;5;129;01mnot\u001b[39;00m stream:\n",
      "\u001b[36mFile \u001b[39m\u001b[32m~/IdeaClan/newsbreak_marketing/.venv/lib/python3.12/site-packages/httpx/_client.py:1657\u001b[39m, in \u001b[36mAsyncClient._send_handling_auth\u001b[39m\u001b[34m(self, request, auth, follow_redirects, history)\u001b[39m\n\u001b[32m   1654\u001b[39m request = \u001b[38;5;28;01mawait\u001b[39;00m auth_flow.\u001b[34m__anext__\u001b[39m()\n\u001b[32m   1656\u001b[39m \u001b[38;5;28;01mwhile\u001b[39;00m \u001b[38;5;28;01mTrue\u001b[39;00m:\n\u001b[32m-> \u001b[39m\u001b[32m1657\u001b[39m     response = \u001b[38;5;28;01mawait\u001b[39;00m \u001b[38;5;28mself\u001b[39m._send_handling_redirects(\n\u001b[32m   1658\u001b[39m         request,\n\u001b[32m   1659\u001b[39m         follow_redirects=follow_redirects,\n\u001b[32m   1660\u001b[39m         history=history,\n\u001b[32m   1661\u001b[39m     )\n\u001b[32m   1662\u001b[39m     \u001b[38;5;28;01mtry\u001b[39;00m:\n\u001b[32m   1663\u001b[39m         \u001b[38;5;28;01mtry\u001b[39;00m:\n",
      "\u001b[36mFile \u001b[39m\u001b[32m~/IdeaClan/newsbreak_marketing/.venv/lib/python3.12/site-packages/httpx/_client.py:1694\u001b[39m, in \u001b[36mAsyncClient._send_handling_redirects\u001b[39m\u001b[34m(self, request, follow_redirects, history)\u001b[39m\n\u001b[32m   1691\u001b[39m \u001b[38;5;28;01mfor\u001b[39;00m hook \u001b[38;5;129;01min\u001b[39;00m \u001b[38;5;28mself\u001b[39m._event_hooks[\u001b[33m\"\u001b[39m\u001b[33mrequest\u001b[39m\u001b[33m\"\u001b[39m]:\n\u001b[32m   1692\u001b[39m     \u001b[38;5;28;01mawait\u001b[39;00m hook(request)\n\u001b[32m-> \u001b[39m\u001b[32m1694\u001b[39m response = \u001b[38;5;28;01mawait\u001b[39;00m \u001b[38;5;28mself\u001b[39m._send_single_request(request)\n\u001b[32m   1695\u001b[39m \u001b[38;5;28;01mtry\u001b[39;00m:\n\u001b[32m   1696\u001b[39m     \u001b[38;5;28;01mfor\u001b[39;00m hook \u001b[38;5;129;01min\u001b[39;00m \u001b[38;5;28mself\u001b[39m._event_hooks[\u001b[33m\"\u001b[39m\u001b[33mresponse\u001b[39m\u001b[33m\"\u001b[39m]:\n",
      "\u001b[36mFile \u001b[39m\u001b[32m~/IdeaClan/newsbreak_marketing/.venv/lib/python3.12/site-packages/httpx/_client.py:1730\u001b[39m, in \u001b[36mAsyncClient._send_single_request\u001b[39m\u001b[34m(self, request)\u001b[39m\n\u001b[32m   1725\u001b[39m     \u001b[38;5;28;01mraise\u001b[39;00m \u001b[38;5;167;01mRuntimeError\u001b[39;00m(\n\u001b[32m   1726\u001b[39m         \u001b[33m\"\u001b[39m\u001b[33mAttempted to send an sync request with an AsyncClient instance.\u001b[39m\u001b[33m\"\u001b[39m\n\u001b[32m   1727\u001b[39m     )\n\u001b[32m   1729\u001b[39m \u001b[38;5;28;01mwith\u001b[39;00m request_context(request=request):\n\u001b[32m-> \u001b[39m\u001b[32m1730\u001b[39m     response = \u001b[38;5;28;01mawait\u001b[39;00m transport.handle_async_request(request)\n\u001b[32m   1732\u001b[39m \u001b[38;5;28;01massert\u001b[39;00m \u001b[38;5;28misinstance\u001b[39m(response.stream, AsyncByteStream)\n\u001b[32m   1733\u001b[39m response.request = request\n",
      "\u001b[36mFile \u001b[39m\u001b[32m~/IdeaClan/newsbreak_marketing/.venv/lib/python3.12/site-packages/httpx/_transports/default.py:393\u001b[39m, in \u001b[36mAsyncHTTPTransport.handle_async_request\u001b[39m\u001b[34m(self, request)\u001b[39m\n\u001b[32m    379\u001b[39m \u001b[38;5;28;01mimport\u001b[39;00m\u001b[38;5;250m \u001b[39m\u001b[34;01mhttpcore\u001b[39;00m\n\u001b[32m    381\u001b[39m req = httpcore.Request(\n\u001b[32m    382\u001b[39m     method=request.method,\n\u001b[32m    383\u001b[39m     url=httpcore.URL(\n\u001b[32m   (...)\u001b[39m\u001b[32m    391\u001b[39m     extensions=request.extensions,\n\u001b[32m    392\u001b[39m )\n\u001b[32m--> \u001b[39m\u001b[32m393\u001b[39m \u001b[38;5;28;01mwith\u001b[39;00m map_httpcore_exceptions():\n\u001b[32m    394\u001b[39m     resp = \u001b[38;5;28;01mawait\u001b[39;00m \u001b[38;5;28mself\u001b[39m._pool.handle_async_request(req)\n\u001b[32m    396\u001b[39m \u001b[38;5;28;01massert\u001b[39;00m \u001b[38;5;28misinstance\u001b[39m(resp.stream, typing.AsyncIterable)\n",
      "\u001b[36mFile \u001b[39m\u001b[32m/Library/Frameworks/Python.framework/Versions/3.12/lib/python3.12/contextlib.py:158\u001b[39m, in \u001b[36m_GeneratorContextManager.__exit__\u001b[39m\u001b[34m(self, typ, value, traceback)\u001b[39m\n\u001b[32m    156\u001b[39m     value = typ()\n\u001b[32m    157\u001b[39m \u001b[38;5;28;01mtry\u001b[39;00m:\n\u001b[32m--> \u001b[39m\u001b[32m158\u001b[39m     \u001b[38;5;28;43mself\u001b[39;49m\u001b[43m.\u001b[49m\u001b[43mgen\u001b[49m\u001b[43m.\u001b[49m\u001b[43mthrow\u001b[49m\u001b[43m(\u001b[49m\u001b[43mvalue\u001b[49m\u001b[43m)\u001b[49m\n\u001b[32m    159\u001b[39m \u001b[38;5;28;01mexcept\u001b[39;00m \u001b[38;5;167;01mStopIteration\u001b[39;00m \u001b[38;5;28;01mas\u001b[39;00m exc:\n\u001b[32m    160\u001b[39m     \u001b[38;5;66;03m# Suppress StopIteration *unless* it's the same exception that\u001b[39;00m\n\u001b[32m    161\u001b[39m     \u001b[38;5;66;03m# was passed to throw().  This prevents a StopIteration\u001b[39;00m\n\u001b[32m    162\u001b[39m     \u001b[38;5;66;03m# raised inside the \"with\" statement from being suppressed.\u001b[39;00m\n\u001b[32m    163\u001b[39m     \u001b[38;5;28;01mreturn\u001b[39;00m exc \u001b[38;5;129;01mis\u001b[39;00m \u001b[38;5;129;01mnot\u001b[39;00m value\n",
      "\u001b[36mFile \u001b[39m\u001b[32m~/IdeaClan/newsbreak_marketing/.venv/lib/python3.12/site-packages/httpx/_transports/default.py:118\u001b[39m, in \u001b[36mmap_httpcore_exceptions\u001b[39m\u001b[34m()\u001b[39m\n\u001b[32m    115\u001b[39m     \u001b[38;5;28;01mraise\u001b[39;00m\n\u001b[32m    117\u001b[39m message = \u001b[38;5;28mstr\u001b[39m(exc)\n\u001b[32m--> \u001b[39m\u001b[32m118\u001b[39m \u001b[38;5;28;01mraise\u001b[39;00m mapped_exc(message) \u001b[38;5;28;01mfrom\u001b[39;00m\u001b[38;5;250m \u001b[39m\u001b[34;01mexc\u001b[39;00m\n",
      "\u001b[31mWriteTimeout\u001b[39m: "
     ]
    },
    {
     "name": "stdout",
     "output_type": "stream",
     "text": [
      "> \u001b[32m/Users/sumansaurabh/IdeaClan/newsbreak_marketing/.venv/lib/python3.12/site-packages/httpx/_transports/default.py\u001b[39m(\u001b[92m118\u001b[39m)\u001b[36mmap_httpcore_exceptions\u001b[39m\u001b[34m()\u001b[39m\n",
      "\u001b[32m    116\u001b[39m \n",
      "\u001b[32m    117\u001b[39m         message = str(exc)\n",
      "\u001b[32m--> 118\u001b[39m         \u001b[38;5;28;01mraise\u001b[39;00m mapped_exc(message) \u001b[38;5;28;01mfrom\u001b[39;00m exc\n",
      "\u001b[32m    119\u001b[39m \n",
      "\u001b[32m    120\u001b[39m \n",
      "\n"
     ]
    }
   ],
   "source": [
    "from newsbreak_marketing.ad import asset_upload\n",
    "with open('/Users/sumansaurabh/Downloads/5532765-uhd_2160_4096_25fps.mp4', 'rb') as f:\n",
    "    url = await asset_upload(session=session, ad_account_id=ad_account_id, media=f)\n",
    "url"
   ]
  },
  {
   "cell_type": "code",
   "execution_count": 20,
   "id": "1be2cec8",
   "metadata": {},
   "outputs": [],
   "source": [
    "from newsbreak_marketing.ad import CreativeType\n",
    "ad = await ad.create(name='ady video',click_through_url='https://aqua-emlynn-33.tiiny.site/',impression_tracking_url=['https://aqua-emlynn-33.tiiny.site/'],type=CreativeType.VIDEO,headline='test',asset_ulr='https://static.particlenews.com/nova/assets/1942158153761857538/20c88fcfce8aed6b96357750a84ae2c108bad244.mp4',description='testdddd',call_to_action='Suscribe',brand_name='test to',logo_url='https://static.particlenews.com/nova/assets/1942158153761857538/1a0671f87c1c5bfb920f2f22a267298a7b70013f.jpeg',click_tracking_url=[\n",
    "    \"https://business.newsbreak.com/tracking/redirect?nb_event_type=AD_EVENT_IMPRESSION&nb_source=gam_3p_tracking&nb_device_id=%%ADVERTISING_IDENTIFIER_PLAIN%%&nb_flight_id=%eaid!&nb_creative_id=%ecid!&uid_01=%%PATTERN:uid_01%%&uid_02=%%PATTERN:uid_02%%&uid_03=%%PATTERN:uid_03%%&uid_04=%%PATTERN:uid_04%%&uid_05=%%PATTERN:uid_05%%&uid_06=%%PATTERN:uid_06%%&uid_07=%%PATTERN:uid_07%%&uid_08=%%PATTERN:uid_08%%\"\n",
    "  ],\n",
    "  cover_url='https://static.particlenews.com/nova/assets/1942158153761857538/1a0671f87c1c5bfb920f2f22a267298a7b70013f.jpeg',\n",
    "  height=3712,\n",
    "  width=5568\n",
    "\n",
    "  )"
   ]
  },
  {
   "cell_type": "code",
   "execution_count": 21,
   "id": "a7ca1893",
   "metadata": {},
   "outputs": [
    {
     "data": {
      "text/plain": [
       "['https://business.newsbreak.com/tracking/redirect?nb_event_type=AD_EVENT_IMPRESSION&nb_source=gam_3p_tracking&nb_device_id=%%ADVERTISING_IDENTIFIER_PLAIN%%&nb_flight_id=%eaid!&nb_creative_id=%ecid!&uid_01=%%PATTERN:uid_01%%&uid_02=%%PATTERN:uid_02%%&uid_03=%%PATTERN:uid_03%%&uid_04=%%PATTERN:uid_04%%&uid_05=%%PATTERN:uid_05%%&uid_06=%%PATTERN:uid_06%%&uid_07=%%PATTERN:uid_07%%&uid_08=%%PATTERN:uid_08%%']"
      ]
     },
     "execution_count": 21,
     "metadata": {},
     "output_type": "execute_result"
    }
   ],
   "source": [
    "ad.click_tracking_url"
   ]
  },
  {
   "cell_type": "code",
   "execution_count": 22,
   "id": "16a373d2",
   "metadata": {},
   "outputs": [],
   "source": [
    "ad = await ad.update(\n",
    "    ad_id=ad.id,\n",
    "    name = 'mango',\n",
    "    type = ad.creative.type,\n",
    "    headline = ad.creative.content.headline,\n",
    "    asset_ulr = ad.creative.content.asset_url,\n",
    "    description = 'dsfadafe',\n",
    "    call_to_action = 'open me',\n",
    "    brand_name = 'duck',\n",
    "    click_through_url = ad.creative.content.click_through_url,\n",
    "    height = ad.creative.content.height,\n",
    "    width = ad.creative.content.width,\n",
    "    cover_url = ad.creative.content.cover_url,\n",
    "    logo_url = ad.creative.content.logo_url,\n",
    "    click_tracking_url = ad.click_tracking_url,\n",
    "    impression_tracking_url = ad.impression_tracking_url\n",
    ")"
   ]
  },
  {
   "cell_type": "code",
   "execution_count": null,
   "id": "07e09d18",
   "metadata": {},
   "outputs": [],
   "source": []
  },
  {
   "cell_type": "code",
   "execution_count": null,
   "id": "106e2747",
   "metadata": {},
   "outputs": [],
   "source": []
  }
 ],
 "metadata": {
  "kernelspec": {
   "display_name": ".venv",
   "language": "python",
   "name": "python3"
  },
  "language_info": {
   "codemirror_mode": {
    "name": "ipython",
    "version": 3
   },
   "file_extension": ".py",
   "mimetype": "text/x-python",
   "name": "python",
   "nbconvert_exporter": "python",
   "pygments_lexer": "ipython3",
   "version": "3.12.10"
  }
 },
 "nbformat": 4,
 "nbformat_minor": 5
}
