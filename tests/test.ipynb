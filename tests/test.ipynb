{
 "cells": [
  {
   "cell_type": "code",
   "execution_count": 1,
   "id": "3ac47935",
   "metadata": {},
   "outputs": [
    {
     "name": "stdout",
     "output_type": "stream",
     "text": [
      "Automatic pdb calling has been turned ON\n"
     ]
    }
   ],
   "source": [
    "%pdb on"
   ]
  },
  {
   "cell_type": "code",
   "execution_count": 2,
   "id": "48565a42",
   "metadata": {},
   "outputs": [],
   "source": [
    "import sys\n",
    "if '/Users/sumansaurabh/IdeaClan/newsbreak_marketing/src' not in sys.path:\n",
    "    sys.path.append('/Users/sumansaurabh/IdeaClan/newsbreak_marketing/src')"
   ]
  },
  {
   "cell_type": "code",
   "execution_count": 3,
   "id": "60ad20c5",
   "metadata": {},
   "outputs": [],
   "source": [
    "access_token = '3d8a7a49-bb3e-4201-b03b-29d0a1f3b348'\n",
    "ad_account_id = '1942158153761857538'\n",
    "\n",
    "from newsbreak_marketing import APISession\n",
    "\n",
    "session = APISession(access_token=access_token)"
   ]
  },
  {
   "cell_type": "code",
   "execution_count": 4,
   "id": "c7290e19",
   "metadata": {},
   "outputs": [],
   "source": [
    "from newsbreak_marketing.campaign import Campaign, CampaignObjective\n",
    "\n",
    "camp = Campaign(ad_account_id=ad_account_id)"
   ]
  },
  {
   "cell_type": "code",
   "execution_count": 5,
   "id": "65f4d3d5",
   "metadata": {},
   "outputs": [],
   "source": [
    "camp = await camp.create(name='testpy',objective=CampaignObjective.WEB_CONVERSION,ad_account_id=ad_account_id)"
   ]
  },
  {
   "cell_type": "code",
   "execution_count": 6,
   "id": "00e9babf",
   "metadata": {},
   "outputs": [],
   "source": [
    "camp = await camp.update(campaign_id=camp.id,name='testpy1')"
   ]
  },
  {
   "cell_type": "code",
   "execution_count": 7,
   "id": "e7fb9b25",
   "metadata": {},
   "outputs": [
    {
     "data": {
      "text/plain": [
       "'testpy1'"
      ]
     },
     "execution_count": 7,
     "metadata": {},
     "output_type": "execute_result"
    }
   ],
   "source": [
    "camp.name"
   ]
  },
  {
   "cell_type": "code",
   "execution_count": 8,
   "id": "cfc58443",
   "metadata": {},
   "outputs": [
    {
     "data": {
      "text/plain": [
       "<Status.ON: 'ON'>"
      ]
     },
     "execution_count": 8,
     "metadata": {},
     "output_type": "execute_result"
    }
   ],
   "source": [
    "camp.status"
   ]
  },
  {
   "cell_type": "code",
   "execution_count": 9,
   "id": "e361674c",
   "metadata": {},
   "outputs": [],
   "source": [
    "from newsbreak_marketing import Status\n",
    "camp = await camp.update_status(campaign_id=camp.id,status=Status.OFF)"
   ]
  },
  {
   "cell_type": "code",
   "execution_count": 10,
   "id": "8be3d216",
   "metadata": {},
   "outputs": [
    {
     "data": {
      "text/plain": [
       "<Status.OFF: 'OFF'>"
      ]
     },
     "execution_count": 10,
     "metadata": {},
     "output_type": "execute_result"
    }
   ],
   "source": [
    "camp.status"
   ]
  },
  {
   "cell_type": "code",
   "execution_count": 11,
   "id": "603ad777",
   "metadata": {},
   "outputs": [],
   "source": [
    "from newsbreak_marketing.ad_set import AdSet\n",
    "\n",
    "adset = AdSet(ad_account_id=ad_account_id, campaign_id=camp.id)"
   ]
  },
  {
   "cell_type": "code",
   "execution_count": 12,
   "id": "9d8f0869",
   "metadata": {},
   "outputs": [],
   "source": [
    "from newsbreak_marketing.ad_set import Targeting, AdSetBudgetType, AdSetBidType, AdSetDeliveryRate\n",
    "\n",
    "adset = await adset.create(name='py1',budget_type=AdSetBudgetType.DAILY, budget=10000, start_time=1752067648, end_time=1752069999, bid_type=AdSetBidType.CPM, bit_rate=1000, delivery_rate=AdSetDeliveryRate.EVENLY, targeting=Targeting(),tracking_id=\"1842149917665583106\")"
   ]
  },
  {
   "cell_type": "code",
   "execution_count": 13,
   "id": "f198b6d0",
   "metadata": {},
   "outputs": [
    {
     "data": {
      "text/plain": [
       "'py1'"
      ]
     },
     "execution_count": 13,
     "metadata": {},
     "output_type": "execute_result"
    }
   ],
   "source": [
    "adset.name"
   ]
  },
  {
   "cell_type": "code",
   "execution_count": null,
   "id": "b591c2b3",
   "metadata": {},
   "outputs": [],
   "source": []
  }
 ],
 "metadata": {
  "kernelspec": {
   "display_name": ".venv",
   "language": "python",
   "name": "python3"
  },
  "language_info": {
   "codemirror_mode": {
    "name": "ipython",
    "version": 3
   },
   "file_extension": ".py",
   "mimetype": "text/x-python",
   "name": "python",
   "nbconvert_exporter": "python",
   "pygments_lexer": "ipython3",
   "version": "3.12.10"
  }
 },
 "nbformat": 4,
 "nbformat_minor": 5
}
